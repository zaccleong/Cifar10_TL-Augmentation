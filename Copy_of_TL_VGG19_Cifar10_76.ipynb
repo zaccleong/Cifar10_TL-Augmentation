{
  "cells": [
    {
      "cell_type": "markdown",
      "metadata": {
        "id": "view-in-github",
        "colab_type": "text"
      },
      "source": [
        "<a href=\"https://colab.research.google.com/github/zaccleong/Cifar10_TL-Augmentation/blob/main/Copy_of_TL_VGG19_Cifar10_76.ipynb\" target=\"_parent\"><img src=\"https://colab.research.google.com/assets/colab-badge.svg\" alt=\"Open In Colab\"/></a>"
      ]
    },
    {
      "cell_type": "code",
      "execution_count": 2,
      "id": "2079c1d4",
      "metadata": {
        "id": "2079c1d4"
      },
      "outputs": [],
      "source": [
        "import glob\n",
        "import numpy as np\n",
        "import matplotlib.pyplot as plt\n",
        "from keras.preprocessing.image import ImageDataGenerator, load_img, img_to_array, array_to_img\n",
        "import pandas as pd\n",
        "from keras import optimizers\n",
        "import tensorflow as tf\n",
        "from tensorflow import keras\n",
        "from keras.models import Sequential\n",
        "from tensorflow.keras import layers\n",
        "from keras.layers import Conv2D, MaxPooling2D, Flatten, Dense, Dropout, InputLayer\n",
        "from tensorflow.keras import utils\n",
        "from keras import optimizers\n",
        "from sklearn.metrics import confusion_matrix\n",
        "from sklearn.model_selection import train_test_split"
      ]
    },
    {
      "cell_type": "code",
      "source": [
        "from keras.datasets import cifar10\n",
        "(X_train, y_train), (X_test, y_test) = cifar10.load_data()\n",
        "\n"
      ],
      "metadata": {
        "id": "UvwvqBQDV_g2",
        "colab": {
          "base_uri": "https://localhost:8080/"
        },
        "outputId": "3834ad38-e49f-4d1b-c24b-83c6ab0d927a"
      },
      "id": "UvwvqBQDV_g2",
      "execution_count": 3,
      "outputs": [
        {
          "output_type": "stream",
          "name": "stdout",
          "text": [
            "Downloading data from https://www.cs.toronto.edu/~kriz/cifar-10-python.tar.gz\n",
            "170500096/170498071 [==============================] - 3s 0us/step\n",
            "170508288/170498071 [==============================] - 3s 0us/step\n"
          ]
        }
      ]
    },
    {
      "cell_type": "code",
      "source": [
        "X_train,X_val,y_train,y_val=train_test_split(X_train,y_train,test_size=.3)"
      ],
      "metadata": {
        "id": "Bqq7guH_eHZB"
      },
      "id": "Bqq7guH_eHZB",
      "execution_count": 4,
      "outputs": []
    },
    {
      "cell_type": "code",
      "source": [
        "# example of using the vgg16 model as a feature extraction model\n",
        "from keras.preprocessing.image import load_img\n",
        "from keras.preprocessing.image import img_to_array\n",
        "from keras.applications.vgg19 import preprocess_input\n",
        "from keras.applications.vgg19 import decode_predictions\n",
        "from keras.applications.vgg19 import VGG19\n",
        "from keras.models import Model\n",
        "from pickle import dump"
      ],
      "metadata": {
        "id": "Wg6-PFWNznPI"
      },
      "id": "Wg6-PFWNznPI",
      "execution_count": 5,
      "outputs": []
    },
    {
      "cell_type": "code",
      "source": [
        "#Change y_train and y_test shape from n,1 to n,10 to represent 10 categories\n",
        "n_classes=10\n",
        "y_train = tf.keras.utils.to_categorical(y_train, n_classes)\n",
        "y_test = tf.keras.utils.to_categorical(y_test, n_classes)\n",
        "y_val = tf.keras.utils.to_categorical(y_val, n_classes)\n",
        "y_train.shape\n"
      ],
      "metadata": {
        "colab": {
          "base_uri": "https://localhost:8080/"
        },
        "id": "UpTmukgFzjyo",
        "outputId": "9d2ab5a1-ca68-4193-fb6a-65a6db2088a7"
      },
      "id": "UpTmukgFzjyo",
      "execution_count": 6,
      "outputs": [
        {
          "output_type": "execute_result",
          "data": {
            "text/plain": [
              "(35000, 10)"
            ]
          },
          "metadata": {},
          "execution_count": 6
        }
      ]
    },
    {
      "cell_type": "code",
      "source": [
        "X_train.shape"
      ],
      "metadata": {
        "colab": {
          "base_uri": "https://localhost:8080/"
        },
        "id": "_d-IVGmpT6OS",
        "outputId": "fbdfc804-38a2-4b08-ab07-522cf4d87ca2"
      },
      "id": "_d-IVGmpT6OS",
      "execution_count": 9,
      "outputs": [
        {
          "output_type": "execute_result",
          "data": {
            "text/plain": [
              "(35000, 32, 32, 3)"
            ]
          },
          "metadata": {},
          "execution_count": 9
        }
      ]
    },
    {
      "cell_type": "code",
      "source": [
        "X_test.shape"
      ],
      "metadata": {
        "colab": {
          "base_uri": "https://localhost:8080/"
        },
        "id": "ERRUQ5D6iG0p",
        "outputId": "0e22e9f3-27af-42b7-d296-64800ee1e98d"
      },
      "id": "ERRUQ5D6iG0p",
      "execution_count": 7,
      "outputs": [
        {
          "output_type": "execute_result",
          "data": {
            "text/plain": [
              "(10000, 32, 32, 3)"
            ]
          },
          "metadata": {},
          "execution_count": 7
        }
      ]
    },
    {
      "cell_type": "code",
      "source": [
        "y_val.shape"
      ],
      "metadata": {
        "colab": {
          "base_uri": "https://localhost:8080/"
        },
        "id": "wVkyCkSgiGKm",
        "outputId": "52365692-70c1-403d-b5fe-f73bf9f0abf9"
      },
      "id": "wVkyCkSgiGKm",
      "execution_count": 8,
      "outputs": [
        {
          "output_type": "execute_result",
          "data": {
            "text/plain": [
              "(15000, 10)"
            ]
          },
          "metadata": {},
          "execution_count": 8
        }
      ]
    },
    {
      "cell_type": "code",
      "execution_count": 10,
      "id": "6c907b11",
      "metadata": {
        "id": "6c907b11"
      },
      "outputs": [],
      "source": [
        "Batch_size=100\n",
        "train_datagen = ImageDataGenerator(rescale=1. / 255,zoom_range=0.1, rotation_range=5,\n",
        "                                   width_shift_range=0.1, height_shift_range=0.1, shear_range=0.05, \n",
        "                                   horizontal_flip=False, fill_mode='nearest')\n",
        "\n",
        "val_datagen = ImageDataGenerator(rescale=1. / 255,zoom_range=0.1, rotation_range=5,\n",
        "                                   width_shift_range=0.1, height_shift_range=0.1, shear_range=0.05, \n",
        "                                   horizontal_flip=False, fill_mode='nearest')\n",
        "\n",
        "test_datagen = ImageDataGenerator(rescale=1. / 255)\n",
        "\n",
        "train_generator = train_datagen.flow(X_train, y_train,batch_size=Batch_size)\n",
        "val_generator = val_datagen.flow(X_val, y_val, batch_size=Batch_size)\n",
        "test_generator = test_datagen.flow(X_test, y_test)"
      ]
    },
    {
      "cell_type": "code",
      "source": [
        "#Example of augmented data\n",
        "train_datagen_og = ImageDataGenerator(rescale=1. / 255)\n",
        "\n",
        "result_data     = train_datagen.flow(X_train[2:3], y_train[2:3], batch_size=128)\n",
        "result_data_og = train_datagen_og.flow(X_train[2:3], y_train[2:3], batch_size=128)"
      ],
      "metadata": {
        "id": "r8lUTB8pUTYx"
      },
      "id": "r8lUTB8pUTYx",
      "execution_count": 72,
      "outputs": []
    },
    {
      "cell_type": "code",
      "source": [
        "def getSamplesFromDataGen(resultData):\n",
        "    x = resultData.next() #fetch the first batch\n",
        "    a = x[0] # train data\n",
        "    b = x[1] # train label\n",
        "    for i in range(0,1):\n",
        "        plt.imshow(a[i])\n",
        "        plt.title(b[i])\n",
        "        plt.show() "
      ],
      "metadata": {
        "id": "s8bUJYASVXXI"
      },
      "id": "s8bUJYASVXXI",
      "execution_count": 73,
      "outputs": []
    },
    {
      "cell_type": "code",
      "source": [
        "# Random augmentation of zoom, rotation and shearing\n",
        "getSamplesFromDataGen(result_data)"
      ],
      "metadata": {
        "colab": {
          "base_uri": "https://localhost:8080/",
          "height": 336
        },
        "id": "z-ayDcJXVarf",
        "outputId": "4c6e49cd-5449-4aba-b434-a8bc7dcd38bf"
      },
      "id": "z-ayDcJXVarf",
      "execution_count": 77,
      "outputs": [
        {
          "output_type": "stream",
          "name": "stderr",
          "text": [
            "/usr/local/lib/python3.7/dist-packages/matplotlib/text.py:1165: FutureWarning: elementwise comparison failed; returning scalar instead, but in the future will perform elementwise comparison\n",
            "  if s != self._text:\n"
          ]
        },
        {
          "output_type": "display_data",
          "data": {
            "text/plain": [
              "<Figure size 432x288 with 1 Axes>"
            ],
            "image/png": "[encoded data removed]"
          },
          "metadata": {
            "needs_background": "light"
          }
        }
      ]
    },
    {
      "cell_type": "code",
      "source": [
        "#Original image without augmentation\n",
        "getSamplesFromDataGen(result_data_og)"
      ],
      "metadata": {
        "colab": {
          "base_uri": "https://localhost:8080/",
          "height": 336
        },
        "id": "WhkIoRDgVj8q",
        "outputId": "1f657959-d700-421e-bb56-d71676a5d79d"
      },
      "id": "WhkIoRDgVj8q",
      "execution_count": 75,
      "outputs": [
        {
          "output_type": "stream",
          "name": "stderr",
          "text": [
            "/usr/local/lib/python3.7/dist-packages/matplotlib/text.py:1165: FutureWarning: elementwise comparison failed; returning scalar instead, but in the future will perform elementwise comparison\n",
            "  if s != self._text:\n"
          ]
        },
        {
          "output_type": "display_data",
          "data": {
            "text/plain": [
              "<Figure size 432x288 with 1 Axes>"
            ],
            "image/png": "[encoded data removed]"
          },
          "metadata": {
            "needs_background": "light"
          }
        }
      ]
    },
    {
      "cell_type": "code",
      "execution_count": 47,
      "id": "730371aa",
      "metadata": {
        "colab": {
          "base_uri": "https://localhost:8080/",
          "height": 842
        },
        "id": "730371aa",
        "outputId": "2ac11f71-a5b2-45dc-da43-19edc8d36d7f"
      },
      "outputs": [
        {
          "output_type": "stream",
          "name": "stdout",
          "text": [
            "Downloading data from https://storage.googleapis.com/tensorflow/keras-applications/vgg19/vgg19_weights_tf_dim_ordering_tf_kernels_notop.h5\n",
            "80142336/80134624 [==============================] - 0s 0us/step\n",
            "80150528/80134624 [==============================] - 0s 0us/step\n"
          ]
        },
        {
          "output_type": "execute_result",
          "data": {
            "text/plain": [
              "                                           Layer Type    Layer Name  \\\n",
              "0   <keras.engine.input_layer.InputLayer object at...       input_1   \n",
              "1   <keras.layers.convolutional.Conv2D object at 0...  block1_conv1   \n",
              "2   <keras.layers.convolutional.Conv2D object at 0...  block1_conv2   \n",
              "3   <keras.layers.pooling.MaxPooling2D object at 0...   block1_pool   \n",
              "4   <keras.layers.convolutional.Conv2D object at 0...  block2_conv1   \n",
              "5   <keras.layers.convolutional.Conv2D object at 0...  block2_conv2   \n",
              "6   <keras.layers.pooling.MaxPooling2D object at 0...   block2_pool   \n",
              "7   <keras.layers.convolutional.Conv2D object at 0...  block3_conv1   \n",
              "8   <keras.layers.convolutional.Conv2D object at 0...  block3_conv2   \n",
              "9   <keras.layers.convolutional.Conv2D object at 0...  block3_conv3   \n",
              "10  <keras.layers.convolutional.Conv2D object at 0...  block3_conv4   \n",
              "11  <keras.layers.pooling.MaxPooling2D object at 0...   block3_pool   \n",
              "12  <keras.layers.convolutional.Conv2D object at 0...  block4_conv1   \n",
              "13  <keras.layers.convolutional.Conv2D object at 0...  block4_conv2   \n",
              "14  <keras.layers.convolutional.Conv2D object at 0...  block4_conv3   \n",
              "15  <keras.layers.convolutional.Conv2D object at 0...  block4_conv4   \n",
              "16  <keras.layers.pooling.MaxPooling2D object at 0...   block4_pool   \n",
              "17  <keras.layers.convolutional.Conv2D object at 0...  block5_conv1   \n",
              "18  <keras.layers.convolutional.Conv2D object at 0...  block5_conv2   \n",
              "19  <keras.layers.convolutional.Conv2D object at 0...  block5_conv3   \n",
              "20  <keras.layers.convolutional.Conv2D object at 0...  block5_conv4   \n",
              "21  <keras.layers.pooling.MaxPooling2D object at 0...   block5_pool   \n",
              "22  <keras.layers.core.flatten.Flatten object at 0...       flatten   \n",
              "\n",
              "    Layer Trainable  \n",
              "0             False  \n",
              "1             False  \n",
              "2             False  \n",
              "3             False  \n",
              "4             False  \n",
              "5             False  \n",
              "6             False  \n",
              "7             False  \n",
              "8             False  \n",
              "9             False  \n",
              "10            False  \n",
              "11            False  \n",
              "12             True  \n",
              "13             True  \n",
              "14             True  \n",
              "15             True  \n",
              "16             True  \n",
              "17             True  \n",
              "18             True  \n",
              "19             True  \n",
              "20             True  \n",
              "21             True  \n",
              "22             True  "
            ],
            "text/html": [
              "\n",
              "  <div id=\"df-f88fd760-c3ff-49b6-89ba-d9eea5359a38\">\n",
              "    <div class=\"colab-df-container\">\n",
              "      <div>\n",
              "<style scoped>\n",
              "    .dataframe tbody tr th:only-of-type {\n",
              "        vertical-align: middle;\n",
              "    }\n",
              "\n",
              "    .dataframe tbody tr th {\n",
              "        vertical-align: top;\n",
              "    }\n",
              "\n",
              "    .dataframe thead th {\n",
              "        text-align: right;\n",
              "    }\n",
              "</style>\n",
              "<table border=\"1\" class=\"dataframe\">\n",
              "  <thead>\n",
              "    <tr style=\"text-align: right;\">\n",
              "      <th></th>\n",
              "      <th>Layer Type</th>\n",
              "      <th>Layer Name</th>\n",
              "      <th>Layer Trainable</th>\n",
              "    </tr>\n",
              "  </thead>\n",
              "  <tbody>\n",
              "    <tr>\n",
              "      <th>0</th>\n",
              "      <td>&lt;keras.engine.input_layer.InputLayer object at...</td>\n",
              "      <td>input_1</td>\n",
              "      <td>False</td>\n",
              "    </tr>\n",
              "    <tr>\n",
              "      <th>1</th>\n",
              "      <td>&lt;keras.layers.convolutional.Conv2D object at 0...</td>\n",
              "      <td>block1_conv1</td>\n",
              "      <td>False</td>\n",
              "    </tr>\n",
              "    <tr>\n",
              "      <th>2</th>\n",
              "      <td>&lt;keras.layers.convolutional.Conv2D object at 0...</td>\n",
              "      <td>block1_conv2</td>\n",
              "      <td>False</td>\n",
              "    </tr>\n",
              "    <tr>\n",
              "      <th>3</th>\n",
              "      <td>&lt;keras.layers.pooling.MaxPooling2D object at 0...</td>\n",
              "      <td>block1_pool</td>\n",
              "      <td>False</td>\n",
              "    </tr>\n",
              "    <tr>\n",
              "      <th>4</th>\n",
              "      <td>&lt;keras.layers.convolutional.Conv2D object at 0...</td>\n",
              "      <td>block2_conv1</td>\n",
              "      <td>False</td>\n",
              "    </tr>\n",
              "    <tr>\n",
              "      <th>5</th>\n",
              "      <td>&lt;keras.layers.convolutional.Conv2D object at 0...</td>\n",
              "      <td>block2_conv2</td>\n",
              "      <td>False</td>\n",
              "    </tr>\n",
              "    <tr>\n",
              "      <th>6</th>\n",
              "      <td>&lt;keras.layers.pooling.MaxPooling2D object at 0...</td>\n",
              "      <td>block2_pool</td>\n",
              "      <td>False</td>\n",
              "    </tr>\n",
              "    <tr>\n",
              "      <th>7</th>\n",
              "      <td>&lt;keras.layers.convolutional.Conv2D object at 0...</td>\n",
              "      <td>block3_conv1</td>\n",
              "      <td>False</td>\n",
              "    </tr>\n",
              "    <tr>\n",
              "      <th>8</th>\n",
              "      <td>&lt;keras.layers.convolutional.Conv2D object at 0...</td>\n",
              "      <td>block3_conv2</td>\n",
              "      <td>False</td>\n",
              "    </tr>\n",
              "    <tr>\n",
              "      <th>9</th>\n",
              "      <td>&lt;keras.layers.convolutional.Conv2D object at 0...</td>\n",
              "      <td>block3_conv3</td>\n",
              "      <td>False</td>\n",
              "    </tr>\n",
              "    <tr>\n",
              "      <th>10</th>\n",
              "      <td>&lt;keras.layers.convolutional.Conv2D object at 0...</td>\n",
              "      <td>block3_conv4</td>\n",
              "      <td>False</td>\n",
              "    </tr>\n",
              "    <tr>\n",
              "      <th>11</th>\n",
              "      <td>&lt;keras.layers.pooling.MaxPooling2D object at 0...</td>\n",
              "      <td>block3_pool</td>\n",
              "      <td>False</td>\n",
              "    </tr>\n",
              "    <tr>\n",
              "      <th>12</th>\n",
              "      <td>&lt;keras.layers.convolutional.Conv2D object at 0...</td>\n",
              "      <td>block4_conv1</td>\n",
              "      <td>True</td>\n",
              "    </tr>\n",
              "    <tr>\n",
              "      <th>13</th>\n",
              "      <td>&lt;keras.layers.convolutional.Conv2D object at 0...</td>\n",
              "      <td>block4_conv2</td>\n",
              "      <td>True</td>\n",
              "    </tr>\n",
              "    <tr>\n",
              "      <th>14</th>\n",
              "      <td>&lt;keras.layers.convolutional.Conv2D object at 0...</td>\n",
              "      <td>block4_conv3</td>\n",
              "      <td>True</td>\n",
              "    </tr>\n",
              "    <tr>\n",
              "      <th>15</th>\n",
              "      <td>&lt;keras.layers.convolutional.Conv2D object at 0...</td>\n",
              "      <td>block4_conv4</td>\n",
              "      <td>True</td>\n",
              "    </tr>\n",
              "    <tr>\n",
              "      <th>16</th>\n",
              "      <td>&lt;keras.layers.pooling.MaxPooling2D object at 0...</td>\n",
              "      <td>block4_pool</td>\n",
              "      <td>True</td>\n",
              "    </tr>\n",
              "    <tr>\n",
              "      <th>17</th>\n",
              "      <td>&lt;keras.layers.convolutional.Conv2D object at 0...</td>\n",
              "      <td>block5_conv1</td>\n",
              "      <td>True</td>\n",
              "    </tr>\n",
              "    <tr>\n",
              "      <th>18</th>\n",
              "      <td>&lt;keras.layers.convolutional.Conv2D object at 0...</td>\n",
              "      <td>block5_conv2</td>\n",
              "      <td>True</td>\n",
              "    </tr>\n",
              "    <tr>\n",
              "      <th>19</th>\n",
              "      <td>&lt;keras.layers.convolutional.Conv2D object at 0...</td>\n",
              "      <td>block5_conv3</td>\n",
              "      <td>True</td>\n",
              "    </tr>\n",
              "    <tr>\n",
              "      <th>20</th>\n",
              "      <td>&lt;keras.layers.convolutional.Conv2D object at 0...</td>\n",
              "      <td>block5_conv4</td>\n",
              "      <td>True</td>\n",
              "    </tr>\n",
              "    <tr>\n",
              "      <th>21</th>\n",
              "      <td>&lt;keras.layers.pooling.MaxPooling2D object at 0...</td>\n",
              "      <td>block5_pool</td>\n",
              "      <td>True</td>\n",
              "    </tr>\n",
              "    <tr>\n",
              "      <th>22</th>\n",
              "      <td>&lt;keras.layers.core.flatten.Flatten object at 0...</td>\n",
              "      <td>flatten</td>\n",
              "      <td>True</td>\n",
              "    </tr>\n",
              "  </tbody>\n",
              "</table>\n",
              "</div>\n",
              "      <button class=\"colab-df-convert\" onclick=\"convertToInteractive('df-f88fd760-c3ff-49b6-89ba-d9eea5359a38')\"\n",
              "              title=\"Convert this dataframe to an interactive table.\"\n",
              "              style=\"display:none;\">\n",
              "        \n",
              "  <svg xmlns=\"http://www.w3.org/2000/svg\" height=\"24px\"viewBox=\"0 0 24 24\"\n",
              "       width=\"24px\">\n",
              "    <path d=\"M0 0h24v24H0V0z\" fill=\"none\"/>\n",
              "    <path d=\"M18.56 5.44l.94 2.06.94-2.06 2.06-.94-2.06-.94-.94-2.06-.94 2.06-2.06.94zm-11 1L8.5 8.5l.94-2.06 2.06-.94-2.06-.94L8.5 2.5l-.94 2.06-2.06.94zm10 10l.94 2.06.94-2.06 2.06-.94-2.06-.94-.94-2.06-.94 2.06-2.06.94z\"/><path d=\"M17.41 7.96l-1.37-1.37c-.4-.4-.92-.59-1.43-.59-.52 0-1.04.2-1.43.59L10.3 9.45l-7.72 7.72c-.78.78-.78 2.05 0 2.83L4 21.41c.39.39.9.59 1.41.59.51 0 1.02-.2 1.41-.59l7.78-7.78 2.81-2.81c.8-.78.8-2.07 0-2.86zM5.41 20L4 18.59l7.72-7.72 1.47 1.35L5.41 20z\"/>\n",
              "  </svg>\n",
              "      </button>\n",
              "      \n",
              "  <style>\n",
              "    .colab-df-container {\n",
              "      display:flex;\n",
              "      flex-wrap:wrap;\n",
              "      gap: 12px;\n",
              "    }\n",
              "\n",
              "    .colab-df-convert {\n",
              "      background-color: #E8F0FE;\n",
              "      border: none;\n",
              "      border-radius: 50%;\n",
              "      cursor: pointer;\n",
              "      display: none;\n",
              "      fill: #1967D2;\n",
              "      height: 32px;\n",
              "      padding: 0 0 0 0;\n",
              "      width: 32px;\n",
              "    }\n",
              "\n",
              "    .colab-df-convert:hover {\n",
              "      background-color: #E2EBFA;\n",
              "      box-shadow: 0px 1px 2px rgba(60, 64, 67, 0.3), 0px 1px 3px 1px rgba(60, 64, 67, 0.15);\n",
              "      fill: #174EA6;\n",
              "    }\n",
              "\n",
              "    [theme=dark] .colab-df-convert {\n",
              "      background-color: #3B4455;\n",
              "      fill: #D2E3FC;\n",
              "    }\n",
              "\n",
              "    [theme=dark] .colab-df-convert:hover {\n",
              "      background-color: #434B5C;\n",
              "      box-shadow: 0px 1px 3px 1px rgba(0, 0, 0, 0.15);\n",
              "      filter: drop-shadow(0px 1px 2px rgba(0, 0, 0, 0.3));\n",
              "      fill: #FFFFFF;\n",
              "    }\n",
              "  </style>\n",
              "\n",
              "      <script>\n",
              "        const buttonEl =\n",
              "          document.querySelector('#df-f88fd760-c3ff-49b6-89ba-d9eea5359a38 button.colab-df-convert');\n",
              "        buttonEl.style.display =\n",
              "          google.colab.kernel.accessAllowed ? 'block' : 'none';\n",
              "\n",
              "        async function convertToInteractive(key) {\n",
              "          const element = document.querySelector('#df-f88fd760-c3ff-49b6-89ba-d9eea5359a38');\n",
              "          const dataTable =\n",
              "            await google.colab.kernel.invokeFunction('convertToInteractive',\n",
              "                                                     [key], {});\n",
              "          if (!dataTable) return;\n",
              "\n",
              "          const docLinkHtml = 'Like what you see? Visit the ' +\n",
              "            '<a target=\"_blank\" href=https://colab.research.google.com/notebooks/data_table.ipynb>data table notebook</a>'\n",
              "            + ' to learn more about interactive tables.';\n",
              "          element.innerHTML = '';\n",
              "          dataTable['output_type'] = 'display_data';\n",
              "          await google.colab.output.renderOutput(dataTable, element);\n",
              "          const docLink = document.createElement('div');\n",
              "          docLink.innerHTML = docLinkHtml;\n",
              "          element.appendChild(docLink);\n",
              "        }\n",
              "      </script>\n",
              "    </div>\n",
              "  </div>\n",
              "  "
            ]
          },
          "metadata": {},
          "execution_count": 47
        }
      ],
      "source": [
        "from keras.applications import vgg19\n",
        "from keras.models import Model\n",
        "import keras\n",
        "\n",
        "\n",
        "\n",
        "vgg = vgg19.VGG19(include_top=False, weights='imagenet', \n",
        "                                     input_shape=(32,32,3))\n",
        "\n",
        "\n",
        "\n",
        "\n",
        "output = vgg.layers[-1].output\n",
        "output = keras.layers.Flatten()(output)\n",
        "vgg_model = Model(vgg.input, output)\n",
        "vgg_model.trainable = True\n",
        "\n",
        "set_trainable = False\n",
        "for layer in vgg_model.layers:\n",
        "    if layer.name in ['block5_conv1','block4_conv1']:\n",
        "        set_trainable = True\n",
        "    if set_trainable:\n",
        "        layer.trainable = True\n",
        "    else:\n",
        "        layer.trainable = False\n",
        "        \n",
        "layers = [(layer, layer.name, layer.trainable) for layer in vgg_model.layers]\n",
        "pd.DataFrame(layers, columns=['Layer Type', 'Layer Name', 'Layer Trainable'])\n",
        "      "
      ]
    },
    {
      "cell_type": "code",
      "source": [
        "model = Sequential()\n",
        "model.add(vgg_model)\n",
        "model.add(Dense(512, activation='relu'))\n",
        "model.add(Dropout(0.1))\n",
        "model.add(Dense(256, activation='relu'))\n",
        "model.add(Dropout(0.2))\n",
        "model.add(Dense(128, activation='relu'))\n",
        "model.add(Dropout(0.3))\n",
        "model.add(Dense(32, activation='relu'))\n",
        "model.add(Dropout(0.4))\n",
        "model.add(Dense(10, activation='softmax'))\n",
        "opt =tf.keras.optimizers.Adam(lr=0.00001)\n",
        "model.compile(loss='categorical_crossentropy',\n",
        "              optimizer = opt,\n",
        "              metrics=['accuracy'])\n",
        "              \n",
        "model.summary()"
      ],
      "metadata": {
        "colab": {
          "base_uri": "https://localhost:8080/"
        },
        "id": "pvbCvkiPd1jT",
        "outputId": "bc8c7402-4e82-49f7-8dfc-ee460708052d"
      },
      "id": "pvbCvkiPd1jT",
      "execution_count": null,
      "outputs": [
        {
          "output_type": "stream",
          "name": "stdout",
          "text": [
            "Model: \"sequential\"\n",
            "_________________________________________________________________\n",
            " Layer (type)                Output Shape              Param #   \n",
            "=================================================================\n",
            " model (Functional)          (None, 512)               20024384  \n",
            "                                                                 \n",
            " dense (Dense)               (None, 512)               262656    \n",
            "                                                                 \n",
            " dropout (Dropout)           (None, 512)               0         \n",
            "                                                                 \n",
            " dense_1 (Dense)             (None, 256)               131328    \n",
            "                                                                 \n",
            " dropout_1 (Dropout)         (None, 256)               0         \n",
            "                                                                 \n",
            " dense_2 (Dense)             (None, 128)               32896     \n",
            "                                                                 \n",
            " dropout_2 (Dropout)         (None, 128)               0         \n",
            "                                                                 \n",
            " dense_3 (Dense)             (None, 32)                4128      \n",
            "                                                                 \n",
            " dropout_3 (Dropout)         (None, 32)                0         \n",
            "                                                                 \n",
            " dense_4 (Dense)             (None, 10)                330       \n",
            "                                                                 \n",
            "=================================================================\n",
            "Total params: 20,455,722\n",
            "Trainable params: 18,130,154\n",
            "Non-trainable params: 2,325,568\n",
            "_________________________________________________________________\n"
          ]
        },
        {
          "output_type": "stream",
          "name": "stderr",
          "text": [
            "/usr/local/lib/python3.7/dist-packages/keras/optimizer_v2/adam.py:105: UserWarning: The `lr` argument is deprecated, use `learning_rate` instead.\n",
            "  super(Adam, self).__init__(name, **kwargs)\n"
          ]
        }
      ]
    },
    {
      "cell_type": "code",
      "source": [
        "history = model.fit(train_generator, steps_per_epoch=X_train.shape[0]//Batch_size, epochs=30,\n",
        "                              validation_data=val_generator, validation_steps=Batch_size\n",
        "                    ,verbose=1)  "
      ],
      "metadata": {
        "colab": {
          "base_uri": "https://localhost:8080/"
        },
        "id": "L_fqcN6u92IT",
        "outputId": "b39c499c-39d4-4733-d7a0-2a445147ba99"
      },
      "id": "L_fqcN6u92IT",
      "execution_count": null,
      "outputs": [
        {
          "output_type": "stream",
          "name": "stdout",
          "text": [
            "Epoch 1/30\n",
            "350/350 [==============================] - 42s 104ms/step - loss: 2.1389 - accuracy: 0.2015 - val_loss: 1.7198 - val_accuracy: 0.4556\n",
            "Epoch 2/30\n",
            "350/350 [==============================] - 29s 82ms/step - loss: 1.7588 - accuracy: 0.3794 - val_loss: 1.3829 - val_accuracy: 0.5775\n",
            "Epoch 3/30\n",
            "350/350 [==============================] - 29s 83ms/step - loss: 1.5557 - accuracy: 0.4720 - val_loss: 1.2113 - val_accuracy: 0.6380\n",
            "Epoch 4/30\n",
            "350/350 [==============================] - 31s 88ms/step - loss: 1.4335 - accuracy: 0.5278 - val_loss: 1.0864 - val_accuracy: 0.6696\n",
            "Epoch 5/30\n",
            "350/350 [==============================] - 29s 83ms/step - loss: 1.3297 - accuracy: 0.5685 - val_loss: 1.0520 - val_accuracy: 0.6790\n",
            "Epoch 6/30\n",
            "350/350 [==============================] - 29s 82ms/step - loss: 1.2499 - accuracy: 0.6050 - val_loss: 0.9811 - val_accuracy: 0.6915\n",
            "Epoch 7/30\n",
            "350/350 [==============================] - 29s 82ms/step - loss: 1.1914 - accuracy: 0.6250 - val_loss: 0.9602 - val_accuracy: 0.6987\n",
            "Epoch 8/30\n",
            "350/350 [==============================] - 29s 83ms/step - loss: 1.1433 - accuracy: 0.6431 - val_loss: 0.9335 - val_accuracy: 0.7058\n",
            "Epoch 9/30\n",
            "350/350 [==============================] - 29s 82ms/step - loss: 1.1076 - accuracy: 0.6596 - val_loss: 0.9033 - val_accuracy: 0.7246\n",
            "Epoch 10/30\n",
            "350/350 [==============================] - 29s 83ms/step - loss: 1.0592 - accuracy: 0.6757 - val_loss: 0.9086 - val_accuracy: 0.7233\n",
            "Epoch 11/30\n",
            "350/350 [==============================] - 29s 82ms/step - loss: 1.0242 - accuracy: 0.6875 - val_loss: 0.8908 - val_accuracy: 0.7250\n",
            "Epoch 12/30\n",
            "350/350 [==============================] - 29s 82ms/step - loss: 0.9974 - accuracy: 0.6987 - val_loss: 0.8691 - val_accuracy: 0.7280\n",
            "Epoch 13/30\n",
            "350/350 [==============================] - 28s 81ms/step - loss: 0.9624 - accuracy: 0.7102 - val_loss: 0.8939 - val_accuracy: 0.7166\n",
            "Epoch 14/30\n",
            "350/350 [==============================] - 28s 81ms/step - loss: 0.9315 - accuracy: 0.7198 - val_loss: 0.8403 - val_accuracy: 0.7422\n",
            "Epoch 15/30\n",
            "350/350 [==============================] - 28s 81ms/step - loss: 0.9005 - accuracy: 0.7286 - val_loss: 0.8322 - val_accuracy: 0.7431\n",
            "Epoch 16/30\n",
            "350/350 [==============================] - 28s 81ms/step - loss: 0.8649 - accuracy: 0.7444 - val_loss: 0.8167 - val_accuracy: 0.7557\n",
            "Epoch 17/30\n",
            "350/350 [==============================] - 28s 81ms/step - loss: 0.8549 - accuracy: 0.7444 - val_loss: 0.8468 - val_accuracy: 0.7457\n",
            "Epoch 18/30\n",
            "350/350 [==============================] - 28s 81ms/step - loss: 0.8186 - accuracy: 0.7583 - val_loss: 0.8372 - val_accuracy: 0.7475\n",
            "Epoch 19/30\n",
            "350/350 [==============================] - 34s 96ms/step - loss: 0.7990 - accuracy: 0.7644 - val_loss: 0.8196 - val_accuracy: 0.7528\n",
            "Epoch 20/30\n",
            "350/350 [==============================] - 29s 82ms/step - loss: 0.7769 - accuracy: 0.7713 - val_loss: 0.8280 - val_accuracy: 0.7497\n",
            "Epoch 21/30\n",
            "350/350 [==============================] - 29s 82ms/step - loss: 0.7424 - accuracy: 0.7817 - val_loss: 0.8194 - val_accuracy: 0.7496\n",
            "Epoch 22/30\n",
            "350/350 [==============================] - 29s 82ms/step - loss: 0.7245 - accuracy: 0.7885 - val_loss: 0.8310 - val_accuracy: 0.7514\n",
            "Epoch 23/30\n",
            "350/350 [==============================] - 29s 82ms/step - loss: 0.6956 - accuracy: 0.7969 - val_loss: 0.8311 - val_accuracy: 0.7514\n",
            "Epoch 24/30\n",
            "350/350 [==============================] - 29s 82ms/step - loss: 0.6802 - accuracy: 0.8031 - val_loss: 0.8810 - val_accuracy: 0.7489\n",
            "Epoch 25/30\n",
            "350/350 [==============================] - 29s 82ms/step - loss: 0.6574 - accuracy: 0.8094 - val_loss: 0.8514 - val_accuracy: 0.7562\n",
            "Epoch 26/30\n",
            "350/350 [==============================] - 28s 81ms/step - loss: 0.6413 - accuracy: 0.8157 - val_loss: 0.8882 - val_accuracy: 0.7509\n",
            "Epoch 27/30\n",
            "350/350 [==============================] - 31s 90ms/step - loss: 0.6334 - accuracy: 0.8184 - val_loss: 0.8221 - val_accuracy: 0.7600\n",
            "Epoch 28/30\n",
            "350/350 [==============================] - 29s 81ms/step - loss: 0.6076 - accuracy: 0.8244 - val_loss: 0.8802 - val_accuracy: 0.7527\n",
            "Epoch 29/30\n",
            "350/350 [==============================] - 28s 81ms/step - loss: 0.5810 - accuracy: 0.8346 - val_loss: 0.8620 - val_accuracy: 0.7586\n",
            "Epoch 30/30\n",
            "350/350 [==============================] - 28s 81ms/step - loss: 0.5723 - accuracy: 0.8380 - val_loss: 0.8262 - val_accuracy: 0.7665\n"
          ]
        }
      ]
    },
    {
      "cell_type": "code",
      "execution_count": null,
      "id": "c4f13139",
      "metadata": {
        "id": "c4f13139",
        "colab": {
          "base_uri": "https://localhost:8080/",
          "height": 282
        },
        "outputId": "9494d2ba-8618-435b-d765-2a683406d2da"
      },
      "outputs": [
        {
          "output_type": "execute_result",
          "data": {
            "text/plain": [
              "<matplotlib.axes._subplots.AxesSubplot at 0x7fd9300a0710>"
            ]
          },
          "metadata": {},
          "execution_count": 18
        },
        {
          "output_type": "display_data",
          "data": {
            "image/png": "[encoded data removed]",
            "text/plain": [
              "<Figure size 432x288 with 1 Axes>"
            ]
          },
          "metadata": {
            "needs_background": "light"
          }
        }
      ],
      "source": [
        "pd.DataFrame(history.history).plot()"
      ]
    },
    {
      "cell_type": "code",
      "source": [
        "model.save('cifar10_TL_cnn_ADAM.h5')"
      ],
      "metadata": {
        "id": "TXHp7W1B2Zh7"
      },
      "id": "TXHp7W1B2Zh7",
      "execution_count": null,
      "outputs": []
    },
    {
      "cell_type": "code",
      "source": [
        "predict_x=model.predict(X_test) \n",
        "y_pred=np.argmax(predict_x,axis=1)\n",
        "y_true=np.argmax(y_test,axis=1)"
      ],
      "metadata": {
        "id": "8dkXcM2rb34R"
      },
      "id": "8dkXcM2rb34R",
      "execution_count": null,
      "outputs": []
    },
    {
      "cell_type": "code",
      "source": [
        "#Compute the confusion matrix\n",
        "confusion_mtx=confusion_matrix(y_true,y_pred)"
      ],
      "metadata": {
        "id": "YsCLkroudf4k"
      },
      "id": "YsCLkroudf4k",
      "execution_count": null,
      "outputs": []
    },
    {
      "cell_type": "code",
      "source": [
        "class_names=['airplane', 'automobile', 'bird', 'cat', 'deer', 'dog', 'frog', 'horse', 'ship', 'truck']"
      ],
      "metadata": {
        "id": "YOfQ9CJwhDSO"
      },
      "id": "YOfQ9CJwhDSO",
      "execution_count": null,
      "outputs": []
    },
    {
      "cell_type": "code",
      "source": [
        "def plot_confusion_matrix(y_true, y_pred, classes,\n",
        "                          normalize=False,\n",
        "                          title=None,\n",
        "                          cmap=plt.cm.Blues):\n",
        "    \"\"\"\n",
        "    This function prints and plots the confusion matrix.\n",
        "    Normalization can be applied by setting `normalize=True`.\n",
        "    \"\"\"\n",
        "    if not title:\n",
        "        if normalize:\n",
        "            title = 'Normalized confusion matrix'\n",
        "        else:\n",
        "            title = 'Confusion matrix, without normalization'\n",
        "\n",
        "    # Compute confusion matrix\n",
        "    cm = confusion_matrix(y_true, y_pred)\n",
        "    if normalize:\n",
        "        cm = cm.astype('float') / cm.sum(axis=1)[:, np.newaxis]\n",
        "        print(\"Normalized confusion matrix\")\n",
        "    else:\n",
        "        print('Confusion matrix, without normalization')\n",
        "\n",
        "#     print(cm)\n",
        "\n",
        "    fig, ax = plt.subplots(figsize=(7,7))\n",
        "    im = ax.imshow(cm, interpolation='nearest', cmap=cmap)\n",
        "    ax.figure.colorbar(im, ax=ax)\n",
        "    # We want to show all ticks...\n",
        "    ax.set(xticks=np.arange(cm.shape[1]),\n",
        "           yticks=np.arange(cm.shape[0]),\n",
        "           # ... and label them with the respective list entries\n",
        "           xticklabels=classes, yticklabels=classes,\n",
        "           title=title,\n",
        "           ylabel='True label',\n",
        "           xlabel='Predicted label')\n",
        "\n",
        "    # Rotate the tick labels and set their alignment.\n",
        "    plt.setp(ax.get_xticklabels(), rotation=45, ha=\"right\",\n",
        "             rotation_mode=\"anchor\")\n",
        "    # Loop over data dimensions and create text annotations.\n",
        "    fmt = '.2f' if normalize else 'd'\n",
        "    thresh = cm.max() / 2.\n",
        "    for i in range(cm.shape[0]):\n",
        "        for j in range(cm.shape[1]):\n",
        "            ax.text(j, i, format(cm[i, j], fmt),\n",
        "                    ha=\"center\", va=\"center\",\n",
        "                    color=\"white\" if cm[i, j] > thresh else \"black\")\n",
        "    fig.tight_layout()\n",
        "    return ax\n",
        "\n",
        "\n",
        "np.set_printoptions(precision=2)"
      ],
      "metadata": {
        "id": "KFCQSHMoFk6w"
      },
      "id": "KFCQSHMoFk6w",
      "execution_count": null,
      "outputs": []
    },
    {
      "cell_type": "code",
      "source": [
        "# Plot non-normalized confusion matrix\n",
        "plot_confusion_matrix(y_true, y_pred, classes=class_names,\n",
        "                      title='Confusion matrix', normalize = True)"
      ],
      "metadata": {
        "id": "s1MrXXpZcqR7",
        "colab": {
          "base_uri": "https://localhost:8080/",
          "height": 521
        },
        "outputId": "3cf8ac34-873f-4a9d-ea83-f8703dca3d6f"
      },
      "id": "s1MrXXpZcqR7",
      "execution_count": null,
      "outputs": [
        {
          "output_type": "stream",
          "name": "stdout",
          "text": [
            "Normalized confusion matrix\n"
          ]
        },
        {
          "output_type": "execute_result",
          "data": {
            "text/plain": [
              "<matplotlib.axes._subplots.AxesSubplot at 0x7fda26978810>"
            ]
          },
          "metadata": {},
          "execution_count": 24
        },
        {
          "output_type": "display_data",
          "data": {
            "image/png": "[encoded data removed]",
            "text/plain": [
              "<Figure size 504x504 with 2 Axes>"
            ]
          },
          "metadata": {
            "needs_background": "light"
          }
        }
      ]
    },
    {
      "cell_type": "code",
      "source": [
        ""
      ],
      "metadata": {
        "id": "fsURBTYpg8XS"
      },
      "id": "fsURBTYpg8XS",
      "execution_count": null,
      "outputs": []
    }
  ],
  "metadata": {
    "kernelspec": {
      "display_name": "Python 3 (ipykernel)",
      "language": "python",
      "name": "python3"
    },
    "language_info": {
      "codemirror_mode": {
        "name": "ipython",
        "version": 3
      },
      "file_extension": ".py",
      "mimetype": "text/x-python",
      "name": "python",
      "nbconvert_exporter": "python",
      "pygments_lexer": "ipython3",
      "version": "3.9.7"
    },
    "colab": {
      "name": "Copy of TL VGG19_Cifar10_76.ipynb",
      "provenance": [],
      "collapsed_sections": [],
      "include_colab_link": true
    },
    "accelerator": "GPU"
  },
  "nbformat": 4,
  "nbformat_minor": 5
}